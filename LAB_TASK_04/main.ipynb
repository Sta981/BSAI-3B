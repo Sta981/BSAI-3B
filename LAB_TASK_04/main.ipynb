{
 "cells": [
  {
   "cell_type": "markdown",
   "id": "945da42d",
   "metadata": {},
   "source": [
    "## **Lab 4 Task**\n",
    "\n",
    " "
   ]
  },
  {
   "cell_type": "markdown",
   "id": "d673da47",
   "metadata": {},
   "source": [
    "## **1. Code for LUHN Algorithm**"
   ]
  },
  {
   "cell_type": "code",
   "execution_count": 2,
   "id": "3a8a7715",
   "metadata": {},
   "outputs": [
    {
     "name": "stdout",
     "output_type": "stream",
     "text": [
      "Valid Card Number\n"
     ]
    }
   ],
   "source": [
    "def luhn(num):\n",
    "    num = num.replace(\" \", \"\") \n",
    "    sum = 0\n",
    "    reverse = num[::-1] \n",
    "\n",
    "    for i in range(len(reverse)):\n",
    "        digit = int(reverse[i])\n",
    "        if i % 2 == 1:\n",
    "            digit *= 2\n",
    "            if digit > 9:\n",
    "                digit -= 9\n",
    "        sum += digit\n",
    "\n",
    "    if sum % 10 == 0:\n",
    "        return \"Valid Card Number\"\n",
    "    else:\n",
    "        return \"Invalid Card Number\"\n",
    "card = input(\"Enter card number: \")\n",
    "print(luhn(card))\n"
   ]
  },
  {
   "cell_type": "markdown",
   "id": "03f727e4",
   "metadata": {},
   "source": [
    "## **2. Write a python program to remove punctuations from the given string?**"
   ]
  },
  {
   "cell_type": "code",
   "execution_count": 3,
   "id": "0e0047fb",
   "metadata": {},
   "outputs": [
    {
     "name": "stdout",
     "output_type": "stream",
     "text": [
      "ctrcdtrcokay\n"
     ]
    }
   ],
   "source": [
    "def remove(text):\n",
    "    punctuation = '''!()-[]{;}:'<>./?@,#$%^/&*_~'''\n",
    "    result = \"\"\n",
    "    for i in text:\n",
    "        if i not in punctuation:\n",
    "            result += i\n",
    "    return result\n",
    "\n",
    "t = input(\"Enter something sentence:\")\n",
    "print(remove(t))\n"
   ]
  },
  {
   "cell_type": "markdown",
   "id": "6e394128",
   "metadata": {},
   "source": [
    "## **3. Write a python program to sort the sentence in alphabetical order?**"
   ]
  },
  {
   "cell_type": "code",
   "execution_count": 4,
   "id": "d5285d0f",
   "metadata": {},
   "outputs": [
    {
     "name": "stdout",
     "output_type": "stream",
     "text": [
      "?? hi ho kia rha sab syed theek\n"
     ]
    }
   ],
   "source": [
    "def aligned(t):\n",
    "    words = t.split()\n",
    "    words.sort() \n",
    "    return \" \".join(words)\n",
    "\n",
    "t = input(\"Enter sentece u want to aligned\")\n",
    "print(aligned(t))\n"
   ]
  }
 ],
 "metadata": {
  "kernelspec": {
   "display_name": "base",
   "language": "python",
   "name": "python3"
  },
  "language_info": {
   "codemirror_mode": {
    "name": "ipython",
    "version": 3
   },
   "file_extension": ".py",
   "mimetype": "text/x-python",
   "name": "python",
   "nbconvert_exporter": "python",
   "pygments_lexer": "ipython3",
   "version": "3.12.7"
  }
 },
 "nbformat": 4,
 "nbformat_minor": 5
}
