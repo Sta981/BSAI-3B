{
 "cells": [
  {
   "cell_type": "markdown",
   "id": "9cbb606b",
   "metadata": {},
   "source": [
    "### **1. BFS without queue and without  node**"
   ]
  },
  {
   "cell_type": "code",
   "execution_count": null,
   "id": "51317462",
   "metadata": {},
   "outputs": [
    {
     "name": "stdout",
     "output_type": "stream",
     "text": [
      "A B C "
     ]
    }
   ],
   "source": [
    "graph = {\n",
    "    'A': ['B', 'C'],\n",
    "    'B': ['D', 'E'],\n",
    "    'C': ['F'],\n",
    "    'D': [],\n",
    "    'E': [],\n",
    "    'F': ['G'],\n",
    "    'G': []\n",
    "}\n",
    "def without_queue(graph, start):\n",
    "    visited = \n",
    "    visited.add(start)\n",
    "\n",
    "    print(start, end=\" \")\n",
    "\n",
    " \n",
    "    for neighbour in graph[start]:\n",
    "        if neighbour not in visited:\n",
    "            print(neighbour, end=\" \")\n",
    "            visited.add(neighbour)\n",
    "\n",
    "without_queue(graph, 'A')"
   ]
  },
  {
   "cell_type": "markdown",
   "id": "d3f80b4c",
   "metadata": {},
   "source": [
    "### **1. BFS with queue and with node**"
   ]
  },
  {
   "cell_type": "code",
   "execution_count": null,
   "id": "128d5b73",
   "metadata": {},
   "outputs": [
    {
     "name": "stdout",
     "output_type": "stream",
     "text": [
      "Visited: ['A'] | Queue: ['B', 'C']\n",
      "Visited: ['A', 'B'] | Queue: ['C', 'D', 'E']\n",
      "Visited: ['A', 'B', 'C'] | Queue: ['D', 'E', 'F']\n",
      "Visited: ['A', 'B', 'C', 'D'] | Queue: ['E', 'F']\n",
      "Visited: ['A', 'B', 'C', 'D', 'E'] | Queue: ['F']\n",
      "Visited: ['A', 'B', 'C', 'D', 'E', 'F'] | Queue: ['G']\n",
      "Visited: ['A', 'B', 'C', 'D', 'E', 'F', 'G'] | Queue: []\n",
      "Finally : ['A', 'B', 'C', 'D', 'E', 'F', 'G']\n"
     ]
    }
   ],
   "source": [
    "g = {\n",
    "    'A': ['B', 'C'],\n",
    "    'B': ['D', 'E'],\n",
    "    'C': ['F'],\n",
    "    'D': [],\n",
    "    'E': [],\n",
    "    'F': ['G'],\n",
    "    'G': []\n",
    "}\n",
    "\n",
    "queue = ['A']  \n",
    "visited = []     \n",
    "\n",
    "while queue:     \n",
    "    i = queue.pop(0) \n",
    "    if i not in visited:\n",
    "        visited.append(i)\n",
    "        queue.extend(g[i]) \n",
    "    print(\"Visited:\", visited, \"| Queue:\", queue)\n",
    "\n",
    "print(\"Finally :\", visited)\n"
   ]
  }
 ],
 "metadata": {
  "kernelspec": {
   "display_name": "base",
   "language": "python",
   "name": "python3"
  },
  "language_info": {
   "codemirror_mode": {
    "name": "ipython",
    "version": 3
   },
   "file_extension": ".py",
   "mimetype": "text/x-python",
   "name": "python",
   "nbconvert_exporter": "python",
   "pygments_lexer": "ipython3",
   "version": "3.12.7"
  }
 },
 "nbformat": 4,
 "nbformat_minor": 5
}
